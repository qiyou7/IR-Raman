{
 "cells": [
  {
   "cell_type": "code",
   "execution_count": 1,
   "metadata": {},
   "outputs": [],
   "source": [
    "from dflow import config, s3_config\n",
    "from dflow.plugins import bohrium\n",
    "from dflow.plugins.bohrium import TiefblueClient\n",
    "config[\"host\"] = \"https://workflows.deepmodeling.com\"\n",
    "config[\"k8s_api_server\"] = \"https://workflows.deepmodeling.com\"\n",
    "bohrium.config[\"username\"] = input(\"Bohrium username: \")\n",
    "bohrium.config[\"password\"] = input(\"Bohrium password: \")\n",
    "bohrium.config[\"project_id\"] = input(\"Project ID: \")\n",
    "s3_config[\"repo_key\"] = \"oss-bohrium\"\n",
    "s3_config[\"storage_client\"] = TiefblueClient()"
   ]
  },
  {
   "cell_type": "code",
   "execution_count": 1,
   "metadata": {},
   "outputs": [],
   "source": [
    "import time, sys\n",
    "sys.path += [\"../..\"]\n",
    "from dflow import download_artifact\n",
    "from dflow.python import (upload_packages)\n",
    "from test_mlwf_qe import test_prep_run\n",
    "upload_packages.append(\"../../mlwf_op\")"
   ]
  },
  {
   "cell_type": "code",
   "execution_count": null,
   "metadata": {},
   "outputs": [],
   "source": [
    "input_setting = {\n",
    "    'name': 'water',\n",
    "    'commands': {\n",
    "        'pw': 'mpirun -n 32 pw.x',\n",
    "        'pw2wannier': 'mpirun -n 32 pw2wannier90.x',\n",
    "        'wannier90' : 'mpirun -n 32 wannier90.x', \n",
    "        'wannier90_pp' : 'wannier90.x'\n",
    "    },\n",
    "    'dft_type': 'qe',\n",
    "    'dft_params':{\n",
    "        'cal_type': 'scf',      # scf or scf+nscf\n",
    "        'qe_params': {\n",
    "            'control': {\n",
    "                'title'     : 'water',\n",
    "            },\n",
    "            'system': {\n",
    "                'ecutwfc'   : 110,\n",
    "                'nosym'     : True,\n",
    "                'input_dft' : 'PBE',\n",
    "                'ibrav'     : 0,\n",
    "            },\n",
    "            'electrons': {\n",
    "                'conv_thr'  : 1e-07\n",
    "            },\n",
    "            'ions': None,\n",
    "            'cell': None,\n",
    "        },\n",
    "        'pw2wan_params': {\n",
    "            'inputpp': {\n",
    "                'spin_component' : None,\n",
    "                'write_mmn' : True,\n",
    "                'write_amn' : True,\n",
    "                'write_unk' : False\n",
    "            }\n",
    "        },\n",
    "        'pseudo_dir': 'pseudo',\n",
    "        'atomic_species': {\n",
    "            'O': {\n",
    "                'mass'  : 16.0,\n",
    "                'pseudo': 'O_ONCV_PBE-1.2.upf'\n",
    "            },\n",
    "            'H': {\n",
    "                'mass'  : 1.0,\n",
    "                'pseudo': 'H_ONCV_PBE-1.2.upf'\n",
    "            },\n",
    "        },\n",
    "        'k_grid': (1, 1, 1)\n",
    "    },\n",
    "    'wannier90_params': {\n",
    "        'wan_params': {\n",
    "            'num_iter'              : 200,\n",
    "            'num_wann'              : 256,\n",
    "            'write_xyz'             : True,\n",
    "            'translate_home_cell'   : True,\n",
    "            'guiding_centres'       : True,\n",
    "            \"mp_grid\"                : \"1, 1, 1\"\n",
    "        },\n",
    "        'projections': {\n",
    "            'O': 'sp3'\n",
    "        },\n",
    "    },\n",
    "}\n",
    "machine_setting = {\n",
    "    'type': 'bohrium',\n",
    "    'group_size': 2,\n",
    "    'params': {\n",
    "        \"job_name\": \"qe-job\",\n",
    "        \"backward_files\": [\"conf*/*.xyz\", \"conf*/*.wout\"],\n",
    "        \"project_id\": 11246,\n",
    "        \"image_name\": \"registry.dp.tech/dptech/prod-13467/wannier-qe:7.0\",\n",
    "        \"machine_type\": \"c32_m64_cpu\",\n",
    "        \"job_type\": \"container\",\n",
    "        \"platform\": \"ali\",\n",
    "        \"jgid\": 77777\n",
    "    }\n",
    "}"
   ]
  },
  {
   "cell_type": "code",
   "execution_count": null,
   "metadata": {},
   "outputs": [
    {
     "name": "stdout",
     "output_type": "stream",
     "text": [
      "Workflow has been submitted (ID: prepare-run-test-s4glr, UID: f102b4e9-c6fb-4e3e-bad2-797d19803dbf)\n"
     ]
    },
    {
     "ename": "AssertionError",
     "evalue": "",
     "output_type": "error",
     "traceback": [
      "\u001b[0;31m---------------------------------------------------------------------------\u001b[0m",
      "\u001b[0;31mAssertionError\u001b[0m                            Traceback (most recent call last)",
      "Cell \u001b[0;32mIn[4], line 1\u001b[0m\n\u001b[0;32m----> 1\u001b[0m wf \u001b[39m=\u001b[39m test_prep_run(input_setting, machine_setting)\n\u001b[1;32m      2\u001b[0m step \u001b[39m=\u001b[39m wf\u001b[39m.\u001b[39mquery_step(\u001b[39m\"\u001b[39m\u001b[39mprepare\u001b[39m\u001b[39m\"\u001b[39m)[\u001b[39m0\u001b[39m]\n\u001b[1;32m      3\u001b[0m download_artifact(step\u001b[39m.\u001b[39moutputs\u001b[39m.\u001b[39martifacts[\u001b[39m\"\u001b[39m\u001b[39mtask_path\u001b[39m\u001b[39m\"\u001b[39m], path\u001b[39m=\u001b[39m\u001b[39m\"\u001b[39m\u001b[39m./back\u001b[39m\u001b[39m\"\u001b[39m)\n",
      "File \u001b[0;32m/data/workflow/ir/test_run_qe.py:94\u001b[0m, in \u001b[0;36mtest_prep_run\u001b[0;34m(input_setting, machine_setting)\u001b[0m\n\u001b[1;32m     91\u001b[0m \u001b[39mwhile\u001b[39;00m wf\u001b[39m.\u001b[39mquery_status() \u001b[39min\u001b[39;00m [\u001b[39m\"\u001b[39m\u001b[39mPending\u001b[39m\u001b[39m\"\u001b[39m, \u001b[39m\"\u001b[39m\u001b[39mRunning\u001b[39m\u001b[39m\"\u001b[39m]:\n\u001b[1;32m     92\u001b[0m     time\u001b[39m.\u001b[39msleep(\u001b[39m1\u001b[39m)\n\u001b[0;32m---> 94\u001b[0m \u001b[39massert\u001b[39;00m(wf\u001b[39m.\u001b[39mquery_status() \u001b[39m==\u001b[39m \u001b[39m\"\u001b[39m\u001b[39mSucceeded\u001b[39m\u001b[39m\"\u001b[39m)\n\u001b[1;32m     95\u001b[0m \u001b[39mreturn\u001b[39;00m wf\n",
      "\u001b[0;31mAssertionError\u001b[0m: "
     ]
    }
   ],
   "source": [
    "wf = test_prep_run(input_setting, machine_setting)\n",
    "step = wf.query_step(\"prepare\")[0]\n",
    "download_artifact(step.outputs.artifacts[\"task_path\"], path=\"./back\")"
   ]
  }
 ],
 "metadata": {
  "kernelspec": {
   "display_name": "base",
   "language": "python",
   "name": "python3"
  },
  "language_info": {
   "codemirror_mode": {
    "name": "ipython",
    "version": 3
   },
   "file_extension": ".py",
   "mimetype": "text/x-python",
   "name": "python",
   "nbconvert_exporter": "python",
   "pygments_lexer": "ipython3",
   "version": "3.8.5"
  },
  "orig_nbformat": 4
 },
 "nbformat": 4,
 "nbformat_minor": 2
}
